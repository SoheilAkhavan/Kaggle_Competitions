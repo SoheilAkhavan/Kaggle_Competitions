{
 "cells": [
  {
   "cell_type": "markdown",
   "metadata": {},
   "source": [
    "## Bulldozers random Forest"
   ]
  },
  {
   "cell_type": "code",
   "execution_count": 1,
   "metadata": {},
   "outputs": [],
   "source": [
    "%load_ext autoreload\n",
    "%autoreload 2\n",
    "\n",
    "%matplotlib inline"
   ]
  },
  {
   "cell_type": "code",
   "execution_count": 2,
   "metadata": {},
   "outputs": [],
   "source": [
    "from fastai.imports import *\n",
    "from fastai.structured import *\n",
    "\n",
    "from pandas_summary import DataFrameSummary\n",
    "from sklearn.ensemble import RandomForestRegressor, RandomForestClassifier\n",
    "from IPython.display import display\n",
    "\n",
    "from sklearn import metrics"
   ]
  },
  {
   "cell_type": "code",
   "execution_count": 3,
   "metadata": {},
   "outputs": [],
   "source": [
    "# path is direction to bulldozers data"
   ]
  },
  {
   "cell_type": "code",
   "execution_count": 4,
   "metadata": {},
   "outputs": [],
   "source": [
    "PATH = \"data/bulldozers/all/\""
   ]
  },
  {
   "cell_type": "code",
   "execution_count": 5,
   "metadata": {},
   "outputs": [],
   "source": [
    "# reading dataset \n"
   ]
  },
  {
   "cell_type": "code",
   "execution_count": 6,
   "metadata": {},
   "outputs": [],
   "source": [
    "# dtype of saledate is date thts the reason we use parse_dates\n",
    "# train\n",
    "df_raw = pd.read_csv(f'{PATH}Train.csv', low_memory=False, parse_dates=[\"saledate\"])\n",
    "# test\n",
    "df_test = pd.read_csv(f'{PATH}/Test.csv', low_memory=False, parse_dates=['saledate'])"
   ]
  },
  {
   "cell_type": "code",
   "execution_count": 7,
   "metadata": {},
   "outputs": [],
   "source": [
    "def display_all(df):\n",
    "    with pd.option_context(\"display.max_rows\", 1000, \"display.max_columns\", 1000): \n",
    "        display(df)"
   ]
  },
  {
   "cell_type": "code",
   "execution_count": 8,
   "metadata": {},
   "outputs": [],
   "source": [
    "#display_all(df_raw.tail().T)"
   ]
  },
  {
   "cell_type": "code",
   "execution_count": 9,
   "metadata": {},
   "outputs": [],
   "source": [
    "#display_all(df_raw.describe(include='all').T)"
   ]
  },
  {
   "cell_type": "code",
   "execution_count": 10,
   "metadata": {},
   "outputs": [],
   "source": [
    "# kaggle use RMSLE (root mean squared log error)"
   ]
  },
  {
   "cell_type": "code",
   "execution_count": 11,
   "metadata": {},
   "outputs": [],
   "source": [
    "df_raw.SalePrice = np.log(df_raw.SalePrice)"
   ]
  },
  {
   "cell_type": "code",
   "execution_count": 12,
   "metadata": {},
   "outputs": [],
   "source": [
    "# add_datepart to add all data out of column date that we define from parsdate in begining"
   ]
  },
  {
   "cell_type": "code",
   "execution_count": 13,
   "metadata": {},
   "outputs": [],
   "source": [
    "# train\n",
    "add_datepart(df_raw, 'saledate')\n",
    "# test\n",
    "add_datepart(df_test, 'saledate')"
   ]
  },
  {
   "cell_type": "code",
   "execution_count": 14,
   "metadata": {},
   "outputs": [],
   "source": [
    "# train_cats to convert strings to pandas categories"
   ]
  },
  {
   "cell_type": "code",
   "execution_count": 15,
   "metadata": {},
   "outputs": [],
   "source": [
    "train_cats(df_raw)"
   ]
  },
  {
   "cell_type": "code",
   "execution_count": 16,
   "metadata": {},
   "outputs": [],
   "source": [
    "# test\n",
    "apply_cats(df_test,df_raw)"
   ]
  },
  {
   "cell_type": "code",
   "execution_count": 17,
   "metadata": {},
   "outputs": [],
   "source": [
    "# We can specify the order to use for categorical variables "
   ]
  },
  {
   "cell_type": "code",
   "execution_count": 18,
   "metadata": {},
   "outputs": [],
   "source": [
    "# train\n",
    "df_raw.UsageBand.cat.set_categories(['High', 'Medium', 'Low'], ordered=True, inplace=True)"
   ]
  },
  {
   "cell_type": "code",
   "execution_count": 20,
   "metadata": {},
   "outputs": [],
   "source": [
    "# Test\n",
    "df_test.UsageBand.cat.set_categories(['High', 'Medium', 'Low'], ordered=True, inplace=True)"
   ]
  },
  {
   "cell_type": "code",
   "execution_count": 21,
   "metadata": {},
   "outputs": [],
   "source": [
    "# replace Usageband col by usageband codes\n",
    "# Train\n",
    "df_raw.UsageBand = df_raw.UsageBand.cat.codes"
   ]
  },
  {
   "cell_type": "code",
   "execution_count": 22,
   "metadata": {},
   "outputs": [],
   "source": [
    "# Train\n",
    "df_test.UsageBand = df_test.UsageBand.cat.codes"
   ]
  },
  {
   "cell_type": "code",
   "execution_count": 23,
   "metadata": {},
   "outputs": [],
   "source": [
    "# dispalying missing values,"
   ]
  },
  {
   "cell_type": "code",
   "execution_count": 24,
   "metadata": {},
   "outputs": [],
   "source": [
    "# display_all(df_raw.isnull().sum().sort_index()/len(df_raw))"
   ]
  },
  {
   "cell_type": "code",
   "execution_count": 25,
   "metadata": {},
   "outputs": [],
   "source": [
    "# We'll replace categories with their numeric codes, handle missing continuous values, \n",
    "# and split the dependent variable into a separate variable."
   ]
  },
  {
   "cell_type": "code",
   "execution_count": 26,
   "metadata": {},
   "outputs": [],
   "source": [
    "# Train\n",
    "X, y, nas = proc_df(df_raw, 'SalePrice')"
   ]
  },
  {
   "cell_type": "code",
   "execution_count": 27,
   "metadata": {},
   "outputs": [],
   "source": [
    "# Test\n",
    "X_test, _, nas = proc_df(df_test, na_dict=nas)"
   ]
  },
  {
   "cell_type": "code",
   "execution_count": 28,
   "metadata": {},
   "outputs": [],
   "source": [
    "X, y , nas = proc_df(df_raw, 'SalePrice', na_dict=nas)"
   ]
  },
  {
   "cell_type": "code",
   "execution_count": 29,
   "metadata": {},
   "outputs": [
    {
     "data": {
      "text/plain": [
       "0.9830241981800025"
      ]
     },
     "execution_count": 29,
     "metadata": {},
     "output_type": "execute_result"
    }
   ],
   "source": [
    "m = RandomForestRegressor(n_jobs=-1)\n",
    "m.fit(X, y)\n",
    "m.score(X,y)"
   ]
  },
  {
   "cell_type": "code",
   "execution_count": 30,
   "metadata": {},
   "outputs": [],
   "source": [
    "# R^2 ia .983"
   ]
  },
  {
   "cell_type": "code",
   "execution_count": 31,
   "metadata": {},
   "outputs": [],
   "source": [
    "# Split the dataset into Training and Validation dataset"
   ]
  },
  {
   "cell_type": "code",
   "execution_count": 33,
   "metadata": {},
   "outputs": [
    {
     "data": {
      "text/plain": [
       "((389125, 66), (389125,), (12000, 66))"
      ]
     },
     "execution_count": 33,
     "metadata": {},
     "output_type": "execute_result"
    }
   ],
   "source": [
    "def split_vals(a,n): return a[:n].copy(), a[n:].copy()\n",
    "\n",
    "n_valid = 12000  # same as Kaggle's test set size\n",
    "n_trn = len(X)-n_valid\n",
    "raw_train, raw_valid = split_vals(df_raw, n_trn)\n",
    "X_train, X_valid = split_vals(X, n_trn)\n",
    "y_train, y_valid = split_vals(y, n_trn)\n",
    "\n",
    "X_train.shape, y_train.shape, X_valid.shape"
   ]
  },
  {
   "cell_type": "code",
   "execution_count": 34,
   "metadata": {},
   "outputs": [],
   "source": [
    "def rmse(x,y): return math.sqrt(((x-y)**2).mean())\n",
    "\n",
    "def print_score(m):\n",
    "    res = [rmse(m.predict(X_train), y_train), rmse(m.predict(X_valid), y_valid),\n",
    "                m.score(X_train, y_train), m.score(X_valid, y_valid)]\n",
    "    if hasattr(m, 'oob_score_'): res.append(m.oob_score_)\n",
    "    print(res)"
   ]
  },
  {
   "cell_type": "code",
   "execution_count": 35,
   "metadata": {},
   "outputs": [
    {
     "name": "stdout",
     "output_type": "stream",
     "text": [
      "CPU times: user 1min 7s, sys: 212 ms, total: 1min 7s\n",
      "Wall time: 13.4 s\n",
      "[0.0905490275502126, 0.24709333603849895, 0.9828642780221948, 0.8909639676611623]\n"
     ]
    }
   ],
   "source": [
    "m = RandomForestRegressor(n_jobs=-1)\n",
    "%time m.fit(X_train, y_train)\n",
    "print_score(m)"
   ]
  },
  {
   "cell_type": "code",
   "execution_count": 36,
   "metadata": {},
   "outputs": [],
   "source": [
    "#An r^2 in the high-80's isn't bad at all (and the RMSLE puts us around rank 100 of 470 \n",
    "#on the Kaggle leaderboard), but we can see from the validation set score that\n",
    "#we're over-fitting badly. To understand this issue, let's simplify things down to a single small tree."
   ]
  },
  {
   "cell_type": "code",
   "execution_count": 37,
   "metadata": {},
   "outputs": [],
   "source": [
    "## Single tree"
   ]
  },
  {
   "cell_type": "code",
   "execution_count": 38,
   "metadata": {},
   "outputs": [
    {
     "name": "stdout",
     "output_type": "stream",
     "text": [
      "[0.5371269683343529, 0.5674541015387254, 0.39703966649954636, 0.4249449087371987]\n"
     ]
    }
   ],
   "source": [
    "m = RandomForestRegressor(n_estimators=1, max_depth=3, bootstrap=False, n_jobs=-1)\n",
    "m.fit(X_train, y_train)\n",
    "print_score(m)"
   ]
  },
  {
   "cell_type": "code",
   "execution_count": 39,
   "metadata": {},
   "outputs": [
    {
     "data": {
      "image/svg+xml": [
       "<?xml version=\"1.0\" encoding=\"UTF-8\" standalone=\"no\"?>\n",
       "<!DOCTYPE svg PUBLIC \"-//W3C//DTD SVG 1.1//EN\"\n",
       " \"http://www.w3.org/Graphics/SVG/1.1/DTD/svg11.dtd\">\n",
       "<!-- Generated by graphviz version 2.38.0 (20140413.2041)\n",
       " -->\n",
       "<!-- Title: Tree Pages: 1 -->\n",
       "<svg width=\"720pt\" height=\"434pt\"\n",
       " viewBox=\"0.00 0.00 720.00 434.49\" xmlns=\"http://www.w3.org/2000/svg\" xmlns:xlink=\"http://www.w3.org/1999/xlink\">\n",
       "<g id=\"graph0\" class=\"graph\" transform=\"scale(0.778659 0.778659) rotate(0) translate(4 554)\">\n",
       "<title>Tree</title>\n",
       "<polygon fill=\"white\" stroke=\"none\" points=\"-4,4 -4,-554 920.667,-554 920.667,4 -4,4\"/>\n",
       "<!-- 0 -->\n",
       "<g id=\"node1\" class=\"node\"><title>0</title>\n",
       "<polygon fill=\"#e58139\" fill-opacity=\"0.698039\" stroke=\"black\" points=\"189.167,-308.5 12.1667,-308.5 12.1667,-240.5 189.167,-240.5 189.167,-308.5\"/>\n",
       "<text text-anchor=\"start\" x=\"20.1667\" y=\"-293.3\" font-family=\"Times,serif\" font-size=\"14.00\">Coupler_System ≤ 0.5</text>\n",
       "<text text-anchor=\"start\" x=\"55.1667\" y=\"-278.3\" font-family=\"Times,serif\" font-size=\"14.00\">mse = 0.478</text>\n",
       "<text text-anchor=\"start\" x=\"33.6667\" y=\"-263.3\" font-family=\"Times,serif\" font-size=\"14.00\">samples = 389125</text>\n",
       "<text text-anchor=\"start\" x=\"46.1667\" y=\"-248.3\" font-family=\"Times,serif\" font-size=\"14.00\">value = 10.106</text>\n",
       "</g>\n",
       "<!-- 1 -->\n",
       "<g id=\"node2\" class=\"node\"><title>1</title>\n",
       "<polygon fill=\"#e58139\" fill-opacity=\"0.760784\" stroke=\"black\" points=\"413.167,-361.5 254.167,-361.5 254.167,-293.5 413.167,-293.5 413.167,-361.5\"/>\n",
       "<text text-anchor=\"start\" x=\"262.167\" y=\"-346.3\" font-family=\"Times,serif\" font-size=\"14.00\">YearMade ≤ 1991.5</text>\n",
       "<text text-anchor=\"start\" x=\"288.167\" y=\"-331.3\" font-family=\"Times,serif\" font-size=\"14.00\">mse = 0.415</text>\n",
       "<text text-anchor=\"start\" x=\"266.667\" y=\"-316.3\" font-family=\"Times,serif\" font-size=\"14.00\">samples = 348393</text>\n",
       "<text text-anchor=\"start\" x=\"279.167\" y=\"-301.3\" font-family=\"Times,serif\" font-size=\"14.00\">value = 10.211</text>\n",
       "</g>\n",
       "<!-- 0&#45;&gt;1 -->\n",
       "<g id=\"edge1\" class=\"edge\"><title>0&#45;&gt;1</title>\n",
       "<path fill=\"none\" stroke=\"black\" d=\"M189.327,-294.613C207.312,-298.739 226.253,-303.085 244.264,-307.217\"/>\n",
       "<polygon fill=\"black\" stroke=\"black\" points=\"243.632,-310.663 254.162,-309.488 245.198,-303.84 243.632,-310.663\"/>\n",
       "<text text-anchor=\"middle\" x=\"232.978\" y=\"-319.065\" font-family=\"Times,serif\" font-size=\"14.00\">True</text>\n",
       "</g>\n",
       "<!-- 8 -->\n",
       "<g id=\"node9\" class=\"node\"><title>8</title>\n",
       "<polygon fill=\"#e58139\" fill-opacity=\"0.137255\" stroke=\"black\" points=\"413.167,-255.5 254.167,-255.5 254.167,-187.5 413.167,-187.5 413.167,-255.5\"/>\n",
       "<text text-anchor=\"start\" x=\"262.167\" y=\"-240.3\" font-family=\"Times,serif\" font-size=\"14.00\">YearMade ≤ 1998.5</text>\n",
       "<text text-anchor=\"start\" x=\"288.167\" y=\"-225.3\" font-family=\"Times,serif\" font-size=\"14.00\">mse = 0.114</text>\n",
       "<text text-anchor=\"start\" x=\"271.167\" y=\"-210.3\" font-family=\"Times,serif\" font-size=\"14.00\">samples = 40732</text>\n",
       "<text text-anchor=\"start\" x=\"283.667\" y=\"-195.3\" font-family=\"Times,serif\" font-size=\"14.00\">value = 9.204</text>\n",
       "</g>\n",
       "<!-- 0&#45;&gt;8 -->\n",
       "<g id=\"edge8\" class=\"edge\"><title>0&#45;&gt;8</title>\n",
       "<path fill=\"none\" stroke=\"black\" d=\"M189.327,-254.387C207.312,-250.261 226.253,-245.915 244.264,-241.783\"/>\n",
       "<polygon fill=\"black\" stroke=\"black\" points=\"245.198,-245.16 254.162,-239.512 243.632,-238.337 245.198,-245.16\"/>\n",
       "<text text-anchor=\"middle\" x=\"232.978\" y=\"-222.535\" font-family=\"Times,serif\" font-size=\"14.00\">False</text>\n",
       "</g>\n",
       "<!-- 2 -->\n",
       "<g id=\"node3\" class=\"node\"><title>2</title>\n",
       "<polygon fill=\"#e58139\" fill-opacity=\"0.611765\" stroke=\"black\" points=\"659.667,-486.5 509.667,-486.5 509.667,-418.5 659.667,-418.5 659.667,-486.5\"/>\n",
       "<text text-anchor=\"start\" x=\"518.167\" y=\"-471.3\" font-family=\"Times,serif\" font-size=\"14.00\">ModelID ≤ 4418.5</text>\n",
       "<text text-anchor=\"start\" x=\"539.167\" y=\"-456.3\" font-family=\"Times,serif\" font-size=\"14.00\">mse = 0.373</text>\n",
       "<text text-anchor=\"start\" x=\"517.667\" y=\"-441.3\" font-family=\"Times,serif\" font-size=\"14.00\">samples = 153147</text>\n",
       "<text text-anchor=\"start\" x=\"534.667\" y=\"-426.3\" font-family=\"Times,serif\" font-size=\"14.00\">value = 9.969</text>\n",
       "</g>\n",
       "<!-- 1&#45;&gt;2 -->\n",
       "<g id=\"edge2\" class=\"edge\"><title>1&#45;&gt;2</title>\n",
       "<path fill=\"none\" stroke=\"black\" d=\"M402.707,-361.657C434.822,-377.779 473.296,-397.093 506.494,-413.759\"/>\n",
       "<polygon fill=\"black\" stroke=\"black\" points=\"505.201,-417.026 515.709,-418.384 508.342,-410.77 505.201,-417.026\"/>\n",
       "</g>\n",
       "<!-- 5 -->\n",
       "<g id=\"node6\" class=\"node\"><title>5</title>\n",
       "<polygon fill=\"#e58139\" fill-opacity=\"0.878431\" stroke=\"black\" points=\"689.167,-361.5 480.167,-361.5 480.167,-293.5 689.167,-293.5 689.167,-361.5\"/>\n",
       "<text text-anchor=\"start\" x=\"488.167\" y=\"-346.3\" font-family=\"Times,serif\" font-size=\"14.00\">fiProductClassDesc ≤ 13.5</text>\n",
       "<text text-anchor=\"start\" x=\"539.167\" y=\"-331.3\" font-family=\"Times,serif\" font-size=\"14.00\">mse = 0.366</text>\n",
       "<text text-anchor=\"start\" x=\"517.667\" y=\"-316.3\" font-family=\"Times,serif\" font-size=\"14.00\">samples = 195246</text>\n",
       "<text text-anchor=\"start\" x=\"530.167\" y=\"-301.3\" font-family=\"Times,serif\" font-size=\"14.00\">value = 10.401</text>\n",
       "</g>\n",
       "<!-- 1&#45;&gt;5 -->\n",
       "<g id=\"edge5\" class=\"edge\"><title>1&#45;&gt;5</title>\n",
       "<path fill=\"none\" stroke=\"black\" d=\"M413.452,-327.5C431.326,-327.5 450.661,-327.5 469.666,-327.5\"/>\n",
       "<polygon fill=\"black\" stroke=\"black\" points=\"469.871,-331 479.871,-327.5 469.871,-324 469.871,-331\"/>\n",
       "</g>\n",
       "<!-- 3 -->\n",
       "<g id=\"node4\" class=\"node\"><title>3</title>\n",
       "<polygon fill=\"#e58139\" fill-opacity=\"0.752941\" stroke=\"black\" points=\"901.167,-550 760.167,-550 760.167,-497 901.167,-497 901.167,-550\"/>\n",
       "<text text-anchor=\"start\" x=\"785.167\" y=\"-534.8\" font-family=\"Times,serif\" font-size=\"14.00\">mse = 0.388</text>\n",
       "<text text-anchor=\"start\" x=\"768.167\" y=\"-519.8\" font-family=\"Times,serif\" font-size=\"14.00\">samples = 78592</text>\n",
       "<text text-anchor=\"start\" x=\"776.167\" y=\"-504.8\" font-family=\"Times,serif\" font-size=\"14.00\">value = 10.195</text>\n",
       "</g>\n",
       "<!-- 2&#45;&gt;3 -->\n",
       "<g id=\"edge3\" class=\"edge\"><title>2&#45;&gt;3</title>\n",
       "<path fill=\"none\" stroke=\"black\" d=\"M659.869,-474.092C688.463,-482.412 721.219,-491.943 750.284,-500.401\"/>\n",
       "<polygon fill=\"black\" stroke=\"black\" points=\"749.408,-503.791 759.988,-503.225 751.364,-497.07 749.408,-503.791\"/>\n",
       "</g>\n",
       "<!-- 4 -->\n",
       "<g id=\"node5\" class=\"node\"><title>4</title>\n",
       "<polygon fill=\"#e58139\" fill-opacity=\"0.462745\" stroke=\"black\" points=\"901.167,-479 760.167,-479 760.167,-426 901.167,-426 901.167,-479\"/>\n",
       "<text text-anchor=\"start\" x=\"785.167\" y=\"-463.8\" font-family=\"Times,serif\" font-size=\"14.00\">mse = 0.248</text>\n",
       "<text text-anchor=\"start\" x=\"768.167\" y=\"-448.8\" font-family=\"Times,serif\" font-size=\"14.00\">samples = 74555</text>\n",
       "<text text-anchor=\"start\" x=\"780.667\" y=\"-433.8\" font-family=\"Times,serif\" font-size=\"14.00\">value = 9.731</text>\n",
       "</g>\n",
       "<!-- 2&#45;&gt;4 -->\n",
       "<g id=\"edge4\" class=\"edge\"><title>2&#45;&gt;4</title>\n",
       "<path fill=\"none\" stroke=\"black\" d=\"M659.869,-452.5C688.339,-452.5 720.934,-452.5 749.905,-452.5\"/>\n",
       "<polygon fill=\"black\" stroke=\"black\" points=\"749.988,-456 759.988,-452.5 749.988,-449 749.988,-456\"/>\n",
       "</g>\n",
       "<!-- 6 -->\n",
       "<g id=\"node7\" class=\"node\"><title>6</title>\n",
       "<polygon fill=\"#e58139\" fill-opacity=\"0.690196\" stroke=\"black\" points=\"901.167,-408 760.167,-408 760.167,-355 901.167,-355 901.167,-408\"/>\n",
       "<text text-anchor=\"start\" x=\"785.167\" y=\"-392.8\" font-family=\"Times,serif\" font-size=\"14.00\">mse = 0.203</text>\n",
       "<text text-anchor=\"start\" x=\"768.167\" y=\"-377.8\" font-family=\"Times,serif\" font-size=\"14.00\">samples = 76325</text>\n",
       "<text text-anchor=\"start\" x=\"776.167\" y=\"-362.8\" font-family=\"Times,serif\" font-size=\"14.00\">value = 10.098</text>\n",
       "</g>\n",
       "<!-- 5&#45;&gt;6 -->\n",
       "<g id=\"edge6\" class=\"edge\"><title>5&#45;&gt;6</title>\n",
       "<path fill=\"none\" stroke=\"black\" d=\"M689.498,-350.479C709.712,-354.953 730.605,-359.577 749.893,-363.845\"/>\n",
       "<polygon fill=\"black\" stroke=\"black\" points=\"749.301,-367.299 759.821,-366.042 750.813,-360.464 749.301,-367.299\"/>\n",
       "</g>\n",
       "<!-- 7 -->\n",
       "<g id=\"node8\" class=\"node\"><title>7</title>\n",
       "<polygon fill=\"#e58139\" stroke=\"black\" points=\"905.667,-337 755.667,-337 755.667,-284 905.667,-284 905.667,-337\"/>\n",
       "<text text-anchor=\"start\" x=\"785.167\" y=\"-321.8\" font-family=\"Times,serif\" font-size=\"14.00\">mse = 0.374</text>\n",
       "<text text-anchor=\"start\" x=\"763.667\" y=\"-306.8\" font-family=\"Times,serif\" font-size=\"14.00\">samples = 118921</text>\n",
       "<text text-anchor=\"start\" x=\"776.167\" y=\"-291.8\" font-family=\"Times,serif\" font-size=\"14.00\">value = 10.595</text>\n",
       "</g>\n",
       "<!-- 5&#45;&gt;7 -->\n",
       "<g id=\"edge7\" class=\"edge\"><title>5&#45;&gt;7</title>\n",
       "<path fill=\"none\" stroke=\"black\" d=\"M689.498,-320.266C708.126,-318.968 727.332,-317.63 745.326,-316.376\"/>\n",
       "<polygon fill=\"black\" stroke=\"black\" points=\"745.743,-319.856 755.476,-315.669 745.257,-312.873 745.743,-319.856\"/>\n",
       "</g>\n",
       "<!-- 9 -->\n",
       "<g id=\"node10\" class=\"node\"><title>9</title>\n",
       "<polygon fill=\"#e58139\" fill-opacity=\"0.027451\" stroke=\"black\" points=\"689.167,-255.5 480.167,-255.5 480.167,-187.5 689.167,-187.5 689.167,-255.5\"/>\n",
       "<text text-anchor=\"start\" x=\"488.167\" y=\"-240.3\" font-family=\"Times,serif\" font-size=\"14.00\">fiProductClassDesc ≤ 40.5</text>\n",
       "<text text-anchor=\"start\" x=\"539.167\" y=\"-225.3\" font-family=\"Times,serif\" font-size=\"14.00\">mse = 0.088</text>\n",
       "<text text-anchor=\"start\" x=\"522.167\" y=\"-210.3\" font-family=\"Times,serif\" font-size=\"14.00\">samples = 17328</text>\n",
       "<text text-anchor=\"start\" x=\"534.667\" y=\"-195.3\" font-family=\"Times,serif\" font-size=\"14.00\">value = 9.028</text>\n",
       "</g>\n",
       "<!-- 8&#45;&gt;9 -->\n",
       "<g id=\"edge9\" class=\"edge\"><title>8&#45;&gt;9</title>\n",
       "<path fill=\"none\" stroke=\"black\" d=\"M413.452,-221.5C431.326,-221.5 450.661,-221.5 469.666,-221.5\"/>\n",
       "<polygon fill=\"black\" stroke=\"black\" points=\"469.871,-225 479.871,-221.5 469.871,-218 469.871,-225\"/>\n",
       "</g>\n",
       "<!-- 12 -->\n",
       "<g id=\"node13\" class=\"node\"><title>12</title>\n",
       "<polygon fill=\"#e58139\" fill-opacity=\"0.219608\" stroke=\"black\" points=\"689.167,-131.5 480.167,-131.5 480.167,-63.5 689.167,-63.5 689.167,-131.5\"/>\n",
       "<text text-anchor=\"start\" x=\"488.167\" y=\"-116.3\" font-family=\"Times,serif\" font-size=\"14.00\">fiProductClassDesc ≤ 40.5</text>\n",
       "<text text-anchor=\"start\" x=\"539.167\" y=\"-101.3\" font-family=\"Times,serif\" font-size=\"14.00\">mse = 0.094</text>\n",
       "<text text-anchor=\"start\" x=\"522.167\" y=\"-86.3\" font-family=\"Times,serif\" font-size=\"14.00\">samples = 23404</text>\n",
       "<text text-anchor=\"start\" x=\"534.667\" y=\"-71.3\" font-family=\"Times,serif\" font-size=\"14.00\">value = 9.334</text>\n",
       "</g>\n",
       "<!-- 8&#45;&gt;12 -->\n",
       "<g id=\"edge12\" class=\"edge\"><title>8&#45;&gt;12</title>\n",
       "<path fill=\"none\" stroke=\"black\" d=\"M403.036,-187.452C434.884,-171.593 472.928,-152.647 505.871,-136.242\"/>\n",
       "<polygon fill=\"black\" stroke=\"black\" points=\"507.626,-139.278 515.017,-131.687 504.506,-133.012 507.626,-139.278\"/>\n",
       "</g>\n",
       "<!-- 10 -->\n",
       "<g id=\"node11\" class=\"node\"><title>10</title>\n",
       "<polygon fill=\"none\" stroke=\"black\" points=\"901.167,-266 760.167,-266 760.167,-213 901.167,-213 901.167,-266\"/>\n",
       "<text text-anchor=\"start\" x=\"785.167\" y=\"-250.8\" font-family=\"Times,serif\" font-size=\"14.00\">mse = 0.071</text>\n",
       "<text text-anchor=\"start\" x=\"768.167\" y=\"-235.8\" font-family=\"Times,serif\" font-size=\"14.00\">samples = 13018</text>\n",
       "<text text-anchor=\"start\" x=\"780.667\" y=\"-220.8\" font-family=\"Times,serif\" font-size=\"14.00\">value = 8.981</text>\n",
       "</g>\n",
       "<!-- 9&#45;&gt;10 -->\n",
       "<g id=\"edge10\" class=\"edge\"><title>9&#45;&gt;10</title>\n",
       "<path fill=\"none\" stroke=\"black\" d=\"M689.498,-229.16C709.619,-230.644 730.414,-232.178 749.628,-233.595\"/>\n",
       "<polygon fill=\"black\" stroke=\"black\" points=\"749.59,-237.102 759.821,-234.347 750.105,-230.121 749.59,-237.102\"/>\n",
       "</g>\n",
       "<!-- 11 -->\n",
       "<g id=\"node12\" class=\"node\"><title>11</title>\n",
       "<polygon fill=\"#e58139\" fill-opacity=\"0.117647\" stroke=\"black\" points=\"896.667,-195 764.667,-195 764.667,-142 896.667,-142 896.667,-195\"/>\n",
       "<text text-anchor=\"start\" x=\"785.167\" y=\"-179.8\" font-family=\"Times,serif\" font-size=\"14.00\">mse = 0.115</text>\n",
       "<text text-anchor=\"start\" x=\"772.667\" y=\"-164.8\" font-family=\"Times,serif\" font-size=\"14.00\">samples = 4310</text>\n",
       "<text text-anchor=\"start\" x=\"780.667\" y=\"-149.8\" font-family=\"Times,serif\" font-size=\"14.00\">value = 9.169</text>\n",
       "</g>\n",
       "<!-- 9&#45;&gt;11 -->\n",
       "<g id=\"edge11\" class=\"edge\"><title>9&#45;&gt;11</title>\n",
       "<path fill=\"none\" stroke=\"black\" d=\"M689.498,-198.946C711.346,-194.201 733.989,-189.282 754.539,-184.819\"/>\n",
       "<polygon fill=\"black\" stroke=\"black\" points=\"755.418,-188.21 764.447,-182.667 753.932,-181.369 755.418,-188.21\"/>\n",
       "</g>\n",
       "<!-- 13 -->\n",
       "<g id=\"node14\" class=\"node\"><title>13</title>\n",
       "<polygon fill=\"#e58139\" fill-opacity=\"0.160784\" stroke=\"black\" points=\"901.167,-124 760.167,-124 760.167,-71 901.167,-71 901.167,-124\"/>\n",
       "<text text-anchor=\"start\" x=\"785.167\" y=\"-108.8\" font-family=\"Times,serif\" font-size=\"14.00\">mse = 0.086</text>\n",
       "<text text-anchor=\"start\" x=\"768.167\" y=\"-93.8\" font-family=\"Times,serif\" font-size=\"14.00\">samples = 12554</text>\n",
       "<text text-anchor=\"start\" x=\"780.667\" y=\"-78.8\" font-family=\"Times,serif\" font-size=\"14.00\">value = 9.243</text>\n",
       "</g>\n",
       "<!-- 12&#45;&gt;13 -->\n",
       "<g id=\"edge13\" class=\"edge\"><title>12&#45;&gt;13</title>\n",
       "<path fill=\"none\" stroke=\"black\" d=\"M689.498,-97.5C709.619,-97.5 730.414,-97.5 749.628,-97.5\"/>\n",
       "<polygon fill=\"black\" stroke=\"black\" points=\"749.821,-101 759.821,-97.5 749.821,-94.0001 749.821,-101\"/>\n",
       "</g>\n",
       "<!-- 14 -->\n",
       "<g id=\"node15\" class=\"node\"><title>14</title>\n",
       "<polygon fill=\"#e58139\" fill-opacity=\"0.282353\" stroke=\"black\" points=\"901.167,-53 760.167,-53 760.167,-0 901.167,-0 901.167,-53\"/>\n",
       "<text text-anchor=\"start\" x=\"785.167\" y=\"-37.8\" font-family=\"Times,serif\" font-size=\"14.00\">mse = 0.081</text>\n",
       "<text text-anchor=\"start\" x=\"768.167\" y=\"-22.8\" font-family=\"Times,serif\" font-size=\"14.00\">samples = 10850</text>\n",
       "<text text-anchor=\"start\" x=\"785.167\" y=\"-7.8\" font-family=\"Times,serif\" font-size=\"14.00\">value = 9.44</text>\n",
       "</g>\n",
       "<!-- 12&#45;&gt;14 -->\n",
       "<g id=\"edge14\" class=\"edge\"><title>12&#45;&gt;14</title>\n",
       "<path fill=\"none\" stroke=\"black\" d=\"M689.498,-67.2867C709.804,-61.378 730.797,-55.2694 750.158,-49.6356\"/>\n",
       "<polygon fill=\"black\" stroke=\"black\" points=\"751.197,-52.9787 759.821,-46.824 749.241,-46.2574 751.197,-52.9787\"/>\n",
       "</g>\n",
       "</g>\n",
       "</svg>\n"
      ],
      "text/plain": [
       "<graphviz.files.Source at 0x7ff4135a2860>"
      ]
     },
     "metadata": {},
     "output_type": "display_data"
    }
   ],
   "source": [
    "draw_tree(m.estimators_[0], X_train, precision=3)"
   ]
  },
  {
   "cell_type": "code",
   "execution_count": 40,
   "metadata": {},
   "outputs": [
    {
     "name": "stdout",
     "output_type": "stream",
     "text": [
      "[8.58675118495947e-07, 0.35067277115706164, 0.999999999998459, 0.7803900239102883]\n"
     ]
    }
   ],
   "source": [
    "m = RandomForestRegressor(n_estimators=1, bootstrap=False, n_jobs=-1)\n",
    "m.fit(X_train, y_train)\n",
    "print_score(m)"
   ]
  },
  {
   "cell_type": "code",
   "execution_count": 41,
   "metadata": {},
   "outputs": [],
   "source": [
    "#bagging when n_estimators is greater than 1"
   ]
  },
  {
   "cell_type": "code",
   "execution_count": 42,
   "metadata": {},
   "outputs": [
    {
     "name": "stdout",
     "output_type": "stream",
     "text": [
      "[0.09055851476319483, 0.249744471010344, 0.9828606870667755, 0.8886116582351536]\n"
     ]
    }
   ],
   "source": [
    "m = RandomForestRegressor(n_jobs=-1)\n",
    "m.fit(X_train, y_train)\n",
    "print_score(m)"
   ]
  },
  {
   "cell_type": "code",
   "execution_count": 43,
   "metadata": {},
   "outputs": [
    {
     "data": {
      "text/plain": [
       "(array([9.25913, 9.21034, 9.43348, 9.25913, 9.21034, 9.10498, 8.95545, 9.10498, 9.10498, 9.15905]),\n",
       " 9.180186050842508,\n",
       " 9.104979856318357)"
      ]
     },
     "execution_count": 43,
     "metadata": {},
     "output_type": "execute_result"
    }
   ],
   "source": [
    "preds = np.stack([t.predict(X_valid) for t in m.estimators_])\n",
    "preds[:,0], np.mean(preds[:,0]), y_valid[0]"
   ]
  },
  {
   "cell_type": "code",
   "execution_count": 44,
   "metadata": {},
   "outputs": [
    {
     "data": {
      "text/plain": [
       "(10, 12000)"
      ]
     },
     "execution_count": 44,
     "metadata": {},
     "output_type": "execute_result"
    }
   ],
   "source": [
    "preds.shape"
   ]
  },
  {
   "cell_type": "code",
   "execution_count": 45,
   "metadata": {},
   "outputs": [
    {
     "data": {
      "image/png": "[encoded data removed]",
      "text/plain": [
       "<Figure size 432x288 with 1 Axes>"
      ]
     },
     "metadata": {},
     "output_type": "display_data"
    }
   ],
   "source": [
    "plt.plot([metrics.r2_score(y_valid, np.mean(preds[:i+1], axis=0)) for i in range(10)]);"
   ]
  },
  {
   "cell_type": "code",
   "execution_count": 46,
   "metadata": {},
   "outputs": [],
   "source": [
    "#The shape of this curve suggests\n",
    "#that adding more trees (more than 8) isn't going to help us much. \n",
    "#Let's check. (Compare this to our original model on a sample)"
   ]
  },
  {
   "cell_type": "code",
   "execution_count": 47,
   "metadata": {},
   "outputs": [
    {
     "name": "stdout",
     "output_type": "stream",
     "text": [
      "[0.08262533218307583, 0.24005250311741047, 0.9857320603694005, 0.8970893190848815]\n"
     ]
    }
   ],
   "source": [
    "m = RandomForestRegressor(n_estimators=20, n_jobs=-1)\n",
    "m.fit(X_train, y_train)\n",
    "print_score(m)"
   ]
  },
  {
   "cell_type": "code",
   "execution_count": 48,
   "metadata": {},
   "outputs": [
    {
     "name": "stdout",
     "output_type": "stream",
     "text": [
      "[0.07836834563074388, 0.2408335907810032, 0.98716439972865, 0.8964185238464915]\n"
     ]
    }
   ],
   "source": [
    "m = RandomForestRegressor(n_estimators=40, n_jobs=-1)\n",
    "m.fit(X_train, y_train)\n",
    "print_score(m)"
   ]
  },
  {
   "cell_type": "code",
   "execution_count": 49,
   "metadata": {},
   "outputs": [
    {
     "name": "stdout",
     "output_type": "stream",
     "text": [
      "[0.0760852806871794, 0.23453343102017013, 0.9879013720900774, 0.901766981801806]\n"
     ]
    }
   ],
   "source": [
    "m = RandomForestRegressor(n_estimators=80, n_jobs=-1)\n",
    "m.fit(X_train, y_train)\n",
    "print_score(m)"
   ]
  },
  {
   "cell_type": "code",
   "execution_count": 50,
   "metadata": {},
   "outputs": [],
   "source": [
    "### Out-of-bag (OOB) score"
   ]
  },
  {
   "cell_type": "code",
   "execution_count": 51,
   "metadata": {},
   "outputs": [
    {
     "name": "stdout",
     "output_type": "stream",
     "text": [
      "[0.07834558592067957, 0.2382954953071044, 0.987171854067963, 0.8985902670178951, 0.9085596676739425]\n"
     ]
    }
   ],
   "source": [
    "m = RandomForestRegressor(n_estimators=40, n_jobs=-1, oob_score=True)\n",
    "m.fit(X_train, y_train)\n",
    "print_score(m)"
   ]
  },
  {
   "cell_type": "code",
   "execution_count": 52,
   "metadata": {},
   "outputs": [],
   "source": [
    "## Reducing over-fitting\n"
   ]
  },
  {
   "cell_type": "code",
   "execution_count": null,
   "metadata": {},
   "outputs": [],
   "source": [
    "df_trn, y_trn, nas = proc_df(df_raw, 'SalePrice')\n",
    "X_train, X_valid = split_vals(df_trn, n_trn)\n",
    "y_train, y_valid = split_vals(y_trn, n_trn)"
   ]
  },
  {
   "cell_type": "code",
   "execution_count": null,
   "metadata": {},
   "outputs": [],
   "source": [
    "set_rf_samples(20000)"
   ]
  },
  {
   "cell_type": "code",
   "execution_count": null,
   "metadata": {},
   "outputs": [],
   "source": [
    "m = RandomForestRegressor(n_jobs=-1, oob_score=True)\n",
    "%time m.fit(X_train, y_train)\n",
    "print_score(m)"
   ]
  },
  {
   "cell_type": "code",
   "execution_count": null,
   "metadata": {},
   "outputs": [],
   "source": [
    "m = RandomForestRegressor(n_estimators=40, n_jobs=-1, oob_score=True)\n",
    "m.fit(X_train, y_train)\n",
    "print_score(m)"
   ]
  },
  {
   "cell_type": "code",
   "execution_count": null,
   "metadata": {},
   "outputs": [],
   "source": [
    "# another way to reduce overftiing"
   ]
  },
  {
   "cell_type": "code",
   "execution_count": null,
   "metadata": {},
   "outputs": [],
   "source": [
    "reset_rf_samples()"
   ]
  },
  {
   "cell_type": "code",
   "execution_count": null,
   "metadata": {},
   "outputs": [],
   "source": [
    "m = RandomForestRegressor(n_estimators=40, n_jobs=-1, oob_score=True)\n",
    "m.fit(X_train, y_train)\n",
    "print_score(m)"
   ]
  },
  {
   "cell_type": "code",
   "execution_count": null,
   "metadata": {},
   "outputs": [],
   "source": [
    "m = RandomForestRegressor(n_estimators=40, min_samples_leaf=3, n_jobs=-1, oob_score=True)\n",
    "m.fit(X_train, y_train)\n",
    "print_score(m)"
   ]
  },
  {
   "cell_type": "code",
   "execution_count": 53,
   "metadata": {},
   "outputs": [
    {
     "name": "stdout",
     "output_type": "stream",
     "text": [
      "[0.11922640444961354, 0.2277480529585634, 0.9702915687143115, 0.9073687937175757, 0.9115909005095856]\n"
     ]
    }
   ],
   "source": [
    "m = RandomForestRegressor(n_estimators=40, min_samples_leaf=3, max_features=0.5, n_jobs=-1, oob_score=True)\n",
    "m.fit(X_train, y_train)\n",
    "print_score(m)"
   ]
  },
  {
   "cell_type": "code",
   "execution_count": null,
   "metadata": {},
   "outputs": [],
   "source": [
    "# Submiting to kaggle"
   ]
  },
  {
   "cell_type": "code",
   "execution_count": 59,
   "metadata": {},
   "outputs": [],
   "source": [
    "# Get predictions on processed test dataset.\n",
    "predictions = m.predict(X_test)"
   ]
  },
  {
   "cell_type": "code",
   "execution_count": 61,
   "metadata": {},
   "outputs": [],
   "source": [
    "submission = pd.DataFrame({'SalesID': df_test.SalesID, 'SalePrice': predictions})\n",
    "submission.to_csv('submission.csv', index=False)"
   ]
  },
  {
   "cell_type": "code",
   "execution_count": null,
   "metadata": {},
   "outputs": [],
   "source": []
  }
 ],
 "metadata": {
  "kernelspec": {
   "display_name": "Python 3",
   "language": "python",
   "name": "python3"
  },
  "language_info": {
   "codemirror_mode": {
    "name": "ipython",
    "version": 3
   },
   "file_extension": ".py",
   "mimetype": "text/x-python",
   "name": "python",
   "nbconvert_exporter": "python",
   "pygments_lexer": "ipython3",
   "version": "3.6.5"
  }
 },
 "nbformat": 4,
 "nbformat_minor": 2
}
